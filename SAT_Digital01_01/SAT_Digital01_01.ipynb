{
 "cells": [
  {
   "cell_type": "markdown",
   "metadata": {},
   "source": [
    "# Digital SAT Practice 1 (Mathematics Section)"
   ]
  },
  {
   "cell_type": "markdown",
   "metadata": {},
   "source": [
    "### Importing Libraries"
   ]
  },
  {
   "cell_type": "code",
   "execution_count": 1,
   "metadata": {},
   "outputs": [],
   "source": [
    "import numpy as np\n",
    "import pandas as pd\n",
    "import seaborn as sns\n",
    "import matplotlib.pyplot as plt"
   ]
  },
  {
   "cell_type": "markdown",
   "metadata": {},
   "source": [
    "### Questions"
   ]
  },
  {
   "cell_type": "markdown",
   "metadata": {},
   "source": [
    "#### Module 1"
   ]
  },
  {
   "cell_type": "markdown",
   "metadata": {},
   "source": [
    "1. What is 10% of 470?"
   ]
  },
  {
   "cell_type": "code",
   "execution_count": 2,
   "metadata": {},
   "outputs": [
    {
     "name": "stdout",
     "output_type": "stream",
     "text": [
      "47.0\n"
     ]
    }
   ],
   "source": [
    "x = 470\n",
    "percent = 10\n",
    "\n",
    "result = x * percent / 100\n",
    "print(result)"
   ]
  },
  {
   "cell_type": "markdown",
   "metadata": {},
   "source": [
    "2. 4x + 6 = 18, Find 4x"
   ]
  },
  {
   "cell_type": "code",
   "execution_count": 3,
   "metadata": {},
   "outputs": [
    {
     "name": "stdout",
     "output_type": "stream",
     "text": [
      "12.0\n"
     ]
    }
   ],
   "source": [
    "x = (18 - 6) / 4\n",
    "print(4*x)"
   ]
  },
  {
   "cell_type": "markdown",
   "metadata": {},
   "source": [
    "4. The function g is defined by g(x) = x^2 + 9. For which value of x is g(x) = 25?"
   ]
  },
  {
   "cell_type": "code",
   "execution_count": 4,
   "metadata": {},
   "outputs": [
    {
     "name": "stdout",
     "output_type": "stream",
     "text": [
      "4.0\n"
     ]
    }
   ],
   "source": [
    "x = np.sqrt(25 - 9)\n",
    "print(x)"
   ]
  },
  {
   "cell_type": "markdown",
   "metadata": {},
   "source": [
    "6. A printer produces posters at a constant rate of 42 posters per minute. At what rate, in posters per **hour** does the printer produce the posters?"
   ]
  },
  {
   "cell_type": "code",
   "execution_count": 5,
   "metadata": {},
   "outputs": [
    {
     "name": "stdout",
     "output_type": "stream",
     "text": [
      "2520\n"
     ]
    }
   ],
   "source": [
    "rate = 42 * 60 # 42 posters per minute * 60 minutes per hour\n",
    "print(rate)"
   ]
  },
  {
   "cell_type": "markdown",
   "metadata": {},
   "source": [
    "7. The function f is defined by the equation f(x) = 7x + 2. What is the value of f(x) when x = 4?"
   ]
  },
  {
   "cell_type": "code",
   "execution_count": 6,
   "metadata": {},
   "outputs": [
    {
     "name": "stdout",
     "output_type": "stream",
     "text": [
      "The value of f(x) when x = 4 is: 30\n"
     ]
    }
   ],
   "source": [
    "# Define the function f(x)\n",
    "def f(x):\n",
    "    return 7 * x + 2\n",
    "\n",
    "# Define the value of x\n",
    "x = 4\n",
    "\n",
    "# Calculate the value of f(x) when x = 4\n",
    "result = f(x)\n",
    "\n",
    "# Print the result\n",
    "print(\"The value of f(x) when x = 4 is:\", result)"
   ]
  },
  {
   "cell_type": "markdown",
   "metadata": {},
   "source": [
    "9. Right triangles LMN and PQR are similar, where L and M correspond to P and Q, respectively. Angle M has a measure of 53 deg. What is the measure of angle Q?"
   ]
  },
  {
   "cell_type": "code",
   "execution_count": 7,
   "metadata": {},
   "outputs": [
    {
     "name": "stdout",
     "output_type": "stream",
     "text": [
      "Measure of angle Q: 53 degrees\n"
     ]
    }
   ],
   "source": [
    "# Measure of angle M\n",
    "angle_M = 53  # degrees\n",
    "\n",
    "# Measure of angle Q (since angles M and Q are corresponding angles in similar triangles)\n",
    "angle_Q = angle_M\n",
    "\n",
    "print(\"Measure of angle Q:\", angle_Q, \"degrees\")"
   ]
  },
  {
   "cell_type": "markdown",
   "metadata": {},
   "source": [
    "10. y = -3x and 4x+y = 15. The solution to the given system of equations is (x, y). What is the value of x?"
   ]
  },
  {
   "cell_type": "code",
   "execution_count": 8,
   "metadata": {},
   "outputs": [
    {
     "name": "stdout",
     "output_type": "stream",
     "text": [
      "Value of x: 15\n"
     ]
    }
   ],
   "source": [
    "from sympy import symbols, Eq, solve\n",
    "\n",
    "# Define the variables\n",
    "x, y = symbols('x y')\n",
    "\n",
    "# Define the equations\n",
    "equation1 = Eq(y, -3 * x)\n",
    "equation2 = Eq(4 * x + y, 15)\n",
    "\n",
    "# Solve the system of equations\n",
    "solution = solve((equation1, equation2), (x, y))\n",
    "\n",
    "# Extract the value of x from the solution\n",
    "x_value = solution[x]\n",
    "\n",
    "print(\"Value of x:\", x_value)"
   ]
  },
  {
   "attachments": {
    "image.png": {
     "image/png": "[encoded data removed]"
    }
   },
   "cell_type": "markdown",
   "metadata": {},
   "source": [
    "11. Which of the following equations is the most appropriate linear model for the data shown in the scatterplot?\n",
    "\n",
    "![image.png](attachment:image.png)"
   ]
  },
  {
   "cell_type": "code",
   "execution_count": 2,
   "metadata": {},
   "outputs": [
    {
     "data": {
      "image/png": "[encoded data removed]",
      "text/plain": [
       "<Figure size 720x360 with 1 Axes>"
      ]
     },
     "metadata": {
      "needs_background": "light"
     },
     "output_type": "display_data"
    }
   ],
   "source": [
    "plt.figure(figsize = (10, 5)) \n",
    "\n",
    "# Generate x values\n",
    "x_values = np.linspace(0, 5, 10)  # Generate 100 x values from -10 to 10\n",
    "\n",
    "# Compute corresponding y values\n",
    "y_values = -1.9 * x_values - 10.1  # Substitute x values into the equation\n",
    "\n",
    "# Plot the line\n",
    "plt.plot(x_values, y_values, label='y = -1.9x - 10.1')\n",
    "\n",
    "# Add labels and title\n",
    "plt.xlabel('x')\n",
    "plt.ylabel('y')\n",
    "plt.title('Plot of y = -1.9x - 10.1')\n",
    "\n",
    "# Add grid\n",
    "plt.grid(True)\n",
    "\n",
    "# Add legend\n",
    "plt.legend()\n",
    "\n",
    "# Show plot\n",
    "plt.show()"
   ]
  },
  {
   "cell_type": "code",
   "execution_count": 3,
   "metadata": {},
   "outputs": [
    {
     "data": {
      "image/png": "[encoded data removed]",
      "text/plain": [
       "<Figure size 720x360 with 1 Axes>"
      ]
     },
     "metadata": {
      "needs_background": "light"
     },
     "output_type": "display_data"
    }
   ],
   "source": [
    "plt.figure(figsize = (10, 5)) \n",
    "\n",
    "# Generate x values\n",
    "x_values = np.linspace(0,5, 10)  # Generate 100 x values from -10 to 10\n",
    "\n",
    "# Compute corresponding y values\n",
    "y_values = -1.9 * x_values + 10.1  # Substitute x values into the equation\n",
    "\n",
    "# Plot the line\n",
    "plt.plot(x_values, y_values, label='y = -1.9x + 10.1')\n",
    "\n",
    "# Add labels and title\n",
    "plt.xlabel('x')\n",
    "plt.ylabel('y')\n",
    "plt.title('Plot of y = -1.9x + 10.1')\n",
    "\n",
    "# Add grid\n",
    "plt.grid(True)\n",
    "\n",
    "# Add legend\n",
    "plt.legend()\n",
    "\n",
    "# Show plot\n",
    "plt.show()"
   ]
  },
  {
   "cell_type": "markdown",
   "metadata": {},
   "source": [
    "13. Vivian bought party hats and cupcakes for $71. Each package of party hats cost $3, and each cupcake cost $1. If Vivian bought 10 packages of party hats, how many cupcakes did she buy?"
   ]
  },
  {
   "cell_type": "code",
   "execution_count": 11,
   "metadata": {},
   "outputs": [
    {
     "name": "stdout",
     "output_type": "stream",
     "text": [
      "Vivian bought 41.0 cupcakes.\n"
     ]
    }
   ],
   "source": [
    "# Define the cost of each item\n",
    "cost_per_hat = 3  # $3 per package of party hats\n",
    "cost_per_cupcake = 1  # $1 per cupcake\n",
    "\n",
    "# Define the total amount spent\n",
    "total_spent = 71  # $71 in total\n",
    "\n",
    "# Calculate the total cost of party hats\n",
    "total_cost_hats = 10 * cost_per_hat  # 10 packages of party hats\n",
    "\n",
    "# Calculate the remaining amount for cupcakes\n",
    "remaining_amount = total_spent - total_cost_hats\n",
    "\n",
    "# Calculate the number of cupcakes bought\n",
    "num_cupcakes = remaining_amount / cost_per_cupcake\n",
    "\n",
    "# Print the result\n",
    "print(\"Vivian bought\", num_cupcakes, \"cupcakes.\")"
   ]
  },
  {
   "cell_type": "markdown",
   "metadata": {},
   "source": [
    "14. z^2 + 10z - 24 = 0, what is one of the solutions to the given equation?"
   ]
  },
  {
   "cell_type": "code",
   "execution_count": 12,
   "metadata": {},
   "outputs": [
    {
     "name": "stdout",
     "output_type": "stream",
     "text": [
      "One of the solutions to the equation is: (2+0j)\n"
     ]
    }
   ],
   "source": [
    "import cmath  # Import the complex math module\n",
    "\n",
    "# Coefficients of the quadratic equation\n",
    "a = 1\n",
    "b = 10\n",
    "c = -24\n",
    "\n",
    "# Calculate the discriminant\n",
    "discriminant = (b ** 2) - (4 * a * c)\n",
    "\n",
    "# Calculate the solutions using the quadratic formula\n",
    "solution1 = (-b - cmath.sqrt(discriminant)) / (2 * a)\n",
    "solution2 = (-b + cmath.sqrt(discriminant)) / (2 * a)\n",
    "\n",
    "# Print one of the solutions\n",
    "print(\"One of the solutions to the equation is:\", solution2)"
   ]
  },
  {
   "cell_type": "markdown",
   "metadata": {},
   "source": [
    "15. Bacteria are growing in a liquid growth medium. There were 300,000 cells per milliliter during an initial observation. The number of cells per milliliter doubles every 3 hours. How many cells per milliliter will there be 15 hours after the initial observation?"
   ]
  },
  {
   "cell_type": "code",
   "execution_count": 13,
   "metadata": {},
   "outputs": [
    {
     "name": "stdout",
     "output_type": "stream",
     "text": [
      "After 15 hours, there will be approximately 9600000.0 cells per milliliter.\n"
     ]
    }
   ],
   "source": [
    "# Initial number of cells per milliliter\n",
    "initial_cells_per_ml = 300000\n",
    "\n",
    "# Time after initial observation (in hours)\n",
    "time_hours = 15\n",
    "\n",
    "# Number of times the population doubles in the given time\n",
    "doubling_times = time_hours / 3\n",
    "\n",
    "# Calculate the final number of cells per milliliter\n",
    "final_cells_per_ml = initial_cells_per_ml * (2 ** doubling_times)\n",
    "\n",
    "# Print the result\n",
    "print(\"After\", time_hours, \"hours, there will be approximately\", final_cells_per_ml, \"cells per milliliter.\")\n"
   ]
  },
  {
   "cell_type": "markdown",
   "metadata": {},
   "source": [
    "16. Make the factorization on 6x^8 y^2 + 12x^2 y^2"
   ]
  },
  {
   "cell_type": "code",
   "execution_count": 14,
   "metadata": {},
   "outputs": [
    {
     "name": "stdout",
     "output_type": "stream",
     "text": [
      "Factorized expression: 6*x**2*y**2*(x**6 + 2)\n"
     ]
    }
   ],
   "source": [
    "from sympy import symbols, factor\n",
    "\n",
    "# Define variables\n",
    "x, y = symbols('x y')\n",
    "\n",
    "# Expression to factorize\n",
    "expression = 6 * x**8 * y**2 + 12 * x**2 * y**2\n",
    "\n",
    "# Factorize the expression\n",
    "factorized_expression = factor(expression)\n",
    "\n",
    "# Print the factorized expression\n",
    "print(\"Factorized expression:\", factorized_expression)"
   ]
  },
  {
   "attachments": {
    "image.png": {
     "image/png": "[encoded data removed]"
    }
   },
   "cell_type": "markdown",
   "metadata": {},
   "source": [
    "18. ![image.png](attachment:image.png)\n",
    "\n",
    "The graph shows the relationship between the number of shares of stock from Company A, x, and the number of shares of stock from Company B, y, that Simone can purchase. Which equation could represent this relationship?\n",
    "\n",
    "A. y = 8x + 12\n",
    "\n",
    "**B. 8x + 12y = 480**\n",
    "\n",
    "C. y = 12x + 8\n",
    "\n",
    "D. 12x + 8y = 480"
   ]
  },
  {
   "cell_type": "code",
   "execution_count": 15,
   "metadata": {},
   "outputs": [
    {
     "name": "stdout",
     "output_type": "stream",
     "text": [
      "Equation of the line: y = -0.67(x - 0) + 40\n"
     ]
    }
   ],
   "source": [
    "# Given points\n",
    "x1, y1 = 0, 40\n",
    "x2, y2 = 60, 0\n",
    "\n",
    "# Calculate the slope (m)\n",
    "slope = (y2 - y1) / (x2 - x1)\n",
    "\n",
    "# Choose one point to substitute into the point-slope form (let's choose the first point)\n",
    "x_point, y_point = x1, y1\n",
    "\n",
    "# Use point-slope form to find the equation of the line\n",
    "# y - y1 = m(x - x1)\n",
    "# => y - y_point = slope * (x - x_point)\n",
    "# => y = slope * (x - x_point) + y_point\n",
    "equation = f\"y = {slope:.2f}(x - {x_point}) + {y_point}\"\n",
    "\n",
    "# Print the equation of the line\n",
    "print(\"Equation of the line:\", equation)"
   ]
  },
  {
   "cell_type": "code",
   "execution_count": 4,
   "metadata": {},
   "outputs": [
    {
     "data": {
      "image/png": "[encoded data removed]",
      "text/plain": [
       "<Figure size 720x360 with 1 Axes>"
      ]
     },
     "metadata": {
      "needs_background": "light"
     },
     "output_type": "display_data"
    }
   ],
   "source": [
    "import matplotlib.pyplot as plt\n",
    "\n",
    "plt.figure(figsize = (10, 5)) \n",
    "\n",
    "# Given points\n",
    "x1, y1 = 0, 40\n",
    "x2, y2 = 60, 0\n",
    "\n",
    "# Calculate the slope (m)\n",
    "slope = (y2 - y1) / (x2 - x1)\n",
    "\n",
    "# Generate x values for the line\n",
    "x_values = [x1, x2]\n",
    "\n",
    "# Calculate corresponding y values for the line using the equation of the line\n",
    "y_values = [y1, y2]\n",
    "\n",
    "# Plot the points\n",
    "plt.plot([x1, x2], [y1, y2], 'ro')  # 'ro' for red circles\n",
    "\n",
    "# Plot the line\n",
    "plt.plot(x_values, y_values, label=f'y = {slope:.2f}x + {y1}', color='blue')\n",
    "\n",
    "# Add labels and title\n",
    "plt.xlabel('x')\n",
    "plt.ylabel('y')\n",
    "plt.title('Linear Line Passing Through (0, 40) and (60, 0)')\n",
    "\n",
    "# Add grid\n",
    "plt.grid(True)\n",
    "\n",
    "# Add legend\n",
    "plt.legend()\n",
    "\n",
    "# Show plot\n",
    "plt.show()"
   ]
  },
  {
   "cell_type": "markdown",
   "metadata": {},
   "source": [
    "19. Circle A has a radius of 3n and circle B has a radius of 129n, where n is a positive constant. The area of circle B is how many times the area of circle A."
   ]
  },
  {
   "cell_type": "code",
   "execution_count": 17,
   "metadata": {},
   "outputs": [
    {
     "name": "stdout",
     "output_type": "stream",
     "text": [
      "The area of circle B is 1849.00000000000 times the area of circle A.\n"
     ]
    }
   ],
   "source": [
    "import math\n",
    "\n",
    "# Radius of circle A and circle B\n",
    "radius_A = 3 * x\n",
    "radius_B = 129 * x\n",
    "\n",
    "# Calculate the area of circle A\n",
    "area_A = math.pi * (radius_A ** 2)\n",
    "\n",
    "# Calculate the area of circle B\n",
    "area_B = math.pi * (radius_B ** 2)\n",
    "\n",
    "# Calculate how many times the area of circle B is compared to the area of circle A\n",
    "times_area_B_to_A = area_B / area_A\n",
    "\n",
    "# Print the result\n",
    "print(\"The area of circle B is\", times_area_B_to_A, \"times the area of circle A.\")"
   ]
  },
  {
   "cell_type": "markdown",
   "metadata": {},
   "source": [
    "20. The frequency table summarizes the 57 data values in a data set. What is the maximum data value in the data set?\n",
    "\n",
    "| Data Value | Frequency |\n",
    "|------------|-----------|\n",
    "|6|3|\n",
    "|7|3|\n",
    "|8|8|\n",
    "|9|8|\n",
    "|10|9|\n",
    "|11|11|\n",
    "|12|9|\n",
    "|13|0|\n",
    "|14|6|"
   ]
  },
  {
   "cell_type": "code",
   "execution_count": 18,
   "metadata": {},
   "outputs": [
    {
     "name": "stdout",
     "output_type": "stream",
     "text": [
      "The maximum data value in the data set is: 14\n"
     ]
    }
   ],
   "source": [
    "# Define the frequency table\n",
    "frequency_table = {\n",
    "    6: 3,\n",
    "    7: 3,\n",
    "    8: 8,\n",
    "    9: 8,\n",
    "    10: 9,\n",
    "    11: 11,\n",
    "    12: 9,\n",
    "    13: 0,\n",
    "    14: 6\n",
    "}\n",
    "\n",
    "# Find the maximum data value\n",
    "max_data_value = max(frequency_table.keys())\n",
    "\n",
    "# Print the result\n",
    "print(\"The maximum data value in the data set is:\", max_data_value)"
   ]
  },
  {
   "cell_type": "markdown",
   "metadata": {},
   "source": [
    "21. A circle in the xy-plane has diameter with endpoints (2, 4) and (2, 14). An equation of this circle is (x-2)^2 + (y-9)^2 = r^2, where r is a positive constant. What is the value of r?"
   ]
  },
  {
   "cell_type": "code",
   "execution_count": 19,
   "metadata": {},
   "outputs": [
    {
     "name": "stdout",
     "output_type": "stream",
     "text": [
      "The value of r (radius) is: 5.0\n"
     ]
    }
   ],
   "source": [
    "# Endpoints of the diameter\n",
    "x1, y1 = 2, 4\n",
    "x2, y2 = 2, 14\n",
    "\n",
    "# Calculate the midpoint (x-coordinate of the center is the same as the x-coordinate of the endpoints)\n",
    "center_x = x1\n",
    "\n",
    "# The y-coordinate of the center is the average of the y-coordinates of the endpoints\n",
    "center_y = (y1 + y2) / 2\n",
    "\n",
    "# Calculate the radius using the distance formula: sqrt((x2 - x1)^2 + (y2 - y1)^2)\n",
    "radius = ((x2 - center_x)**2 + (y2 - center_y)**2) ** 0.5\n",
    "\n",
    "# Print the value of r (radius)\n",
    "print(\"The value of r (radius) is:\", radius)"
   ]
  },
  {
   "cell_type": "markdown",
   "metadata": {},
   "source": [
    "22. The measure of angle R is (2pi)/3 rad. The measure of angle T is (5pi)/12 rad greater than the measure of angle R. What is the measure of angle T, in degrees?"
   ]
  },
  {
   "cell_type": "code",
   "execution_count": 20,
   "metadata": {},
   "outputs": [
    {
     "name": "stdout",
     "output_type": "stream",
     "text": [
      "The measure of angle T is: 194.99999999999997 degrees.\n"
     ]
    }
   ],
   "source": [
    "import math\n",
    "\n",
    "# Measure of angle R in radians\n",
    "angle_R_rad = 2 * math.pi / 3\n",
    "\n",
    "# Measure of angle T in radians greater than angle R\n",
    "angle_T_rad = angle_R_rad + (5 * math.pi / 12)\n",
    "\n",
    "# Convert radians to degrees for both angles\n",
    "angle_R_deg = math.degrees(angle_R_rad)\n",
    "angle_T_deg = math.degrees(angle_T_rad)\n",
    "\n",
    "# Print the measure of angle T in degrees\n",
    "print(\"The measure of angle T is:\", angle_T_deg, \"degrees.\")"
   ]
  },
  {
   "cell_type": "markdown",
   "metadata": {},
   "source": [
    "23. A certain town has an area of 4.36 square miles. What is the area, in the **square yards**, of this town? (1 mile = 1760 yards)"
   ]
  },
  {
   "cell_type": "code",
   "execution_count": 21,
   "metadata": {},
   "outputs": [
    {
     "name": "stdout",
     "output_type": "stream",
     "text": [
      "The area of the town in square yards is: 13505536.000000002 square yards.\n"
     ]
    }
   ],
   "source": [
    "# Area in square miles\n",
    "area_miles = 4.36\n",
    "\n",
    "# Conversion factor from square miles to square yards\n",
    "conversion_factor = 1760 ** 2  # 1 mile = 1760 yards, so 1 square mile = (1760 yards)^2\n",
    "\n",
    "# Convert area from square miles to square yards\n",
    "area_yards = area_miles * conversion_factor\n",
    "\n",
    "# Print the area in square yards\n",
    "print(\"The area of the town in square yards is:\", area_yards, \"square yards.\")"
   ]
  },
  {
   "cell_type": "markdown",
   "metadata": {},
   "source": [
    "24. \n",
    "\n",
    "| x| y |\n",
    "|--|---|\n",
    "|18|130|\n",
    "|23|160|\n",
    "|26|178|\n",
    "\n",
    "For line h, the table shows three values of x and their corresponding values of y. Line k is the result of translating line h down 5 units in the xy-plane. What is the x-intercept of line k?"
   ]
  },
  {
   "cell_type": "code",
   "execution_count": 22,
   "metadata": {},
   "outputs": [
    {
     "name": "stdout",
     "output_type": "stream",
     "text": [
      "The x-intercept of line k is: -2.8333333333333335\n"
     ]
    }
   ],
   "source": [
    "# Given points for line h\n",
    "x_h = [18, 23, 26]\n",
    "y_h = [130, 160, 178]\n",
    "\n",
    "# Calculate the slope of line h\n",
    "slope_h = (y_h[1] - y_h[0]) / (x_h[1] - x_h[0])\n",
    "\n",
    "# Calculate the y-intercept of line h using one of the points\n",
    "y_intercept_h = y_h[0] - slope_h * x_h[0]\n",
    "\n",
    "# Translate line h down 5 units to get the equation of line k\n",
    "y_intercept_k = y_intercept_h - 5\n",
    "\n",
    "# Calculate the x-intercept of line k (where y = 0)\n",
    "x_intercept_k = -y_intercept_k / slope_h\n",
    "\n",
    "# Print the x-intercept of line k\n",
    "print(\"The x-intercept of line k is:\", x_intercept_k)"
   ]
  },
  {
   "cell_type": "code",
   "execution_count": 5,
   "metadata": {},
   "outputs": [
    {
     "data": {
      "image/png": "[encoded data removed]",
      "text/plain": [
       "<Figure size 720x360 with 1 Axes>"
      ]
     },
     "metadata": {
      "needs_background": "light"
     },
     "output_type": "display_data"
    }
   ],
   "source": [
    "import matplotlib.pyplot as plt\n",
    "\n",
    "plt.figure(figsize = (10, 5)) \n",
    "\n",
    "# Given points for line h\n",
    "x_h = [18, 23, 26]\n",
    "y_h = [130, 160, 178]\n",
    "\n",
    "# Calculate the slope of line h\n",
    "slope_h = (y_h[1] - y_h[0]) / (x_h[1] - x_h[0])\n",
    "\n",
    "# Calculate the y-intercept of line h using one of the points\n",
    "y_intercept_h = y_h[0] - slope_h * x_h[0]\n",
    "\n",
    "# Translate line h down 5 units to get the equation of line k\n",
    "y_intercept_k = y_intercept_h - 5\n",
    "\n",
    "# Calculate the x-intercept of line k (where y = 0)\n",
    "x_intercept_k = -y_intercept_k / slope_h\n",
    "\n",
    "# Generate x values for lines h and k\n",
    "x_values = [min(x_h) - 1, max(x_h) + 1]\n",
    "\n",
    "# Calculate corresponding y values for lines h and k\n",
    "y_values_h = [slope_h * x + y_intercept_h for x in x_values]\n",
    "y_values_k = [slope_h * x + y_intercept_k for x in x_values]\n",
    "\n",
    "# Plot the points and lines\n",
    "plt.plot(x_h, y_h, 'ro-', label='Line h')\n",
    "plt.plot(x_values, y_values_k, 'b-', label='Line k')\n",
    "plt.xlabel('x')\n",
    "plt.ylabel('y')\n",
    "plt.title('Visualization of Lines h and k')\n",
    "plt.legend()\n",
    "plt.grid(True)\n",
    "plt.show()"
   ]
  },
  {
   "cell_type": "markdown",
   "metadata": {},
   "source": [
    "25. In the xy-plane, the graph of the equation y = -x^2 + 9x - 100 intersects the line y = c at exactly one point. What is the value of c?"
   ]
  },
  {
   "cell_type": "code",
   "execution_count": 6,
   "metadata": {},
   "outputs": [
    {
     "data": {
      "image/png": "[encoded data removed]",
      "text/plain": [
       "<Figure size 720x360 with 1 Axes>"
      ]
     },
     "metadata": {
      "needs_background": "light"
     },
     "output_type": "display_data"
    }
   ],
   "source": [
    "import numpy as np\n",
    "import matplotlib.pyplot as plt\n",
    "\n",
    "plt.figure(figsize = (10, 5)) \n",
    "\n",
    "# Define the range of x values\n",
    "x_values = np.linspace(0, 10, 1000)\n",
    "\n",
    "# Define the equations of the parabola and the line\n",
    "def parabola_equation(x):\n",
    "    return -x**2 + 9*x - 100\n",
    "\n",
    "def line_equation(c):\n",
    "    return c\n",
    "\n",
    "# Find the x-coordinate of the intersection point by setting the equations equal to each other\n",
    "def find_intersection():\n",
    "    for x in x_values:\n",
    "        if parabola_equation(x) == line_equation(c):\n",
    "            return x\n",
    "\n",
    "# Define possible values of c\n",
    "c_values = np.linspace(-200, 200, 1000)\n",
    "\n",
    "# Find the x-coordinate of the intersection point for each value of c\n",
    "intersection_points = []\n",
    "for c in c_values:\n",
    "    x_intersection = find_intersection()\n",
    "    if x_intersection is not None:\n",
    "        intersection_points.append((x_intersection, c))\n",
    "\n",
    "# Plot the parabola\n",
    "plt.plot(x_values, parabola_equation(x_values), label='y = -x^2 + 9x - 100')\n",
    "\n",
    "# Plot the lines corresponding to each value of c\n",
    "for point in intersection_points:\n",
    "    plt.axhline(y=point[1], color='r', linestyle='--', label=f'y = {point[1]}')\n",
    "\n",
    "# Plot the intersection points\n",
    "for point in intersection_points:\n",
    "    plt.plot(point[0], point[1], 'ro')  # 'ro' for red circle marker\n",
    "# Add labels, title, legend, and grid\n",
    "plt.xlabel('x')\n",
    "plt.ylabel('y')\n",
    "plt.title('Intersection of Parabola and Line')\n",
    "plt.legend()\n",
    "plt.grid(True)\n",
    "\n",
    "# Show plot\n",
    "plt.show()\n"
   ]
  },
  {
   "cell_type": "markdown",
   "metadata": {},
   "source": [
    "27. The perimeter of an equilateral triangle is 624 centimeters. The height of this triangle is k√(3) centimeters, where k is a constant. What is the value of k?"
   ]
  },
  {
   "cell_type": "code",
   "execution_count": 25,
   "metadata": {},
   "outputs": [
    {
     "name": "stdout",
     "output_type": "stream",
     "text": [
      "The value of k is: 104.0\n"
     ]
    }
   ],
   "source": [
    "import math\n",
    "\n",
    "# Perimeter of the equilateral triangle\n",
    "perimeter = 624  # centimeters\n",
    "\n",
    "# Formula to find the side length of the equilateral triangle\n",
    "side_length = perimeter / 3\n",
    "\n",
    "# Height of the equilateral triangle\n",
    "height = side_length * math.sqrt(3) / 2\n",
    "\n",
    "# Value of k\n",
    "k = height / math.sqrt(3)\n",
    "\n",
    "# Print the value of k\n",
    "print(\"The value of k is:\", k)"
   ]
  }
 ],
 "metadata": {
  "kernelspec": {
   "display_name": "base",
   "language": "python",
   "name": "python3"
  },
  "language_info": {
   "codemirror_mode": {
    "name": "ipython",
    "version": 3
   },
   "file_extension": ".py",
   "mimetype": "text/x-python",
   "name": "python",
   "nbconvert_exporter": "python",
   "pygments_lexer": "ipython3",
   "version": "3.11.7"
  }
 },
 "nbformat": 4,
 "nbformat_minor": 2
}
